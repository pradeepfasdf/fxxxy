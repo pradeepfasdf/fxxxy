{
 "cells": [
  {
   "cell_type": "code",
   "execution_count": 15,
   "id": "00244b6e",
   "metadata": {},
   "outputs": [
    {
     "name": "stdout",
     "output_type": "stream",
     "text": [
      "All element in the tuple:  [1, 2, 3, 4, 5, 6, 7, 8, 9]\n",
      "Total number of even number:  4\n",
      "Total numbar of odd number:  5\n"
     ]
    }
   ],
   "source": [
    "def countOddEven(tu):\n",
    "    countO=0\n",
    "    countE=0\n",
    "    for i in tu:\n",
    "        if(i%2==0):\n",
    "            countE+=1\n",
    "        else:\n",
    "            countO+=1\n",
    "    print(\"Total number of even number: \",countE)\n",
    "    print(\"Total numbar of odd number: \",countO) \n",
    "t=[1,2,3,4,5,6,7,8,9]\n",
    "print(\"All element in the tuple: \",t)\n",
    "countOddEven(t)"
   ]
  },
  {
   "cell_type": "code",
   "execution_count": null,
   "id": "984eb40c",
   "metadata": {},
   "outputs": [],
   "source": []
  },
  {
   "cell_type": "code",
   "execution_count": null,
   "id": "ce656a00",
   "metadata": {},
   "outputs": [],
   "source": []
  }
 ],
 "metadata": {
  "kernelspec": {
   "display_name": "Python 3 (ipykernel)",
   "language": "python",
   "name": "python3"
  },
  "language_info": {
   "codemirror_mode": {
    "name": "ipython",
    "version": 3
   },
   "file_extension": ".py",
   "mimetype": "text/x-python",
   "name": "python",
   "nbconvert_exporter": "python",
   "pygments_lexer": "ipython3",
   "version": "3.10.2"
  }
 },
 "nbformat": 4,
 "nbformat_minor": 5
}
